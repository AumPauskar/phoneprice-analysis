{
 "cells": [
  {
   "cell_type": "markdown",
   "metadata": {},
   "source": [
    "# Hypothesis testing\n",
    "A case study of hypothesis testing in comparision of two fields of mobile prices\n",
    "\n",
    "## Contents\n",
    "1. Importing the database using pandas\n",
    "2. Cleaning up the database\n",
    "3. Finding the mean and the standard deviation\n",
    "4. Hypothesis and alternative hypothesis\n",
    "5. Finding confidence level\n",
    "6. Conclusion"
   ]
  },
  {
   "cell_type": "markdown",
   "metadata": {},
   "source": [
    "## Importing the database\n",
    "We are using pandas to read two csv files named `inr_pricing.csv` and `usd_pricing.csv` these are two different statistical record accquired from [kaggle](https://www.kaggle.com/) to do the hypothesis testing."
   ]
  },
  {
   "cell_type": "code",
   "execution_count": 34,
   "metadata": {},
   "outputs": [
    {
     "name": "stdout",
     "output_type": "stream",
     "text": [
      "      Unnamed: 0                            Name     Brand   \n",
      "0              0  OnePlus 7T Pro McLaren Edition   OnePlus  \\\n",
      "1              1                   Realme X2 Pro    Realme   \n",
      "2              2               iPhone 11 Pro Max     Apple   \n",
      "3              3                       iPhone 11     Apple   \n",
      "4              4                    LG G8X ThinQ        LG   \n",
      "...          ...                             ...       ...   \n",
      "1354        1354                   Intex Aqua A2     Intex   \n",
      "1355        1355     Videocon Infinium Z51 Nova+  Videocon   \n",
      "1356        1356                   Intex Aqua Y4     Intex   \n",
      "1357        1357                 iBall Andi4 B20     iBall   \n",
      "1358        1358             iBall Andi Avonte 5     iBall   \n",
      "\n",
      "                       Model  Battery capacity (mAh)  Screen size (inches)   \n",
      "0     7T Pro McLaren Edition                    4085                  6.67  \\\n",
      "1                     X2 Pro                    4000                  6.50   \n",
      "2          iPhone 11 Pro Max                    3969                  6.50   \n",
      "3                  iPhone 11                    3110                  6.10   \n",
      "4                  G8X ThinQ                    4000                  6.40   \n",
      "...                      ...                     ...                   ...   \n",
      "1354                 Aqua A2                    1500                  4.00   \n",
      "1355      Infinium Z51 Nova+                    2000                  5.00   \n",
      "1356                 Aqua Y4                    1700                  4.50   \n",
      "1357               Andi4 B20                    1250                  4.00   \n",
      "1358           Andi Avonte 5                    2150                  5.00   \n",
      "\n",
      "     Touchscreen  Resolution x  Resolution y  Processor  ...  Rear camera   \n",
      "0            Yes          1440          3120          8  ...         48.0  \\\n",
      "1            Yes          1080          2400          8  ...         64.0   \n",
      "2            Yes          1242          2688          6  ...         12.0   \n",
      "3            Yes           828          1792          6  ...         12.0   \n",
      "4            Yes          1080          2340          8  ...         12.0   \n",
      "...          ...           ...           ...        ...  ...          ...   \n",
      "1354         Yes           480           800          4  ...          5.0   \n",
      "1355         Yes           480           854          4  ...          8.0   \n",
      "1356         Yes           480           854          2  ...          5.0   \n",
      "1357         Yes           480           800          1  ...          2.0   \n",
      "1358         Yes           480           854          4  ...          8.0   \n",
      "\n",
      "      Front camera  Operating system  Wi-Fi Bluetooth  GPS Number of SIMs   \n",
      "0             16.0           Android    Yes       Yes  Yes              2  \\\n",
      "1             16.0           Android    Yes       Yes  Yes              2   \n",
      "2             12.0               iOS    Yes       Yes  Yes              2   \n",
      "3             12.0               iOS    Yes       Yes  Yes              2   \n",
      "4             32.0           Android    Yes       Yes  Yes              1   \n",
      "...            ...               ...    ...       ...  ...            ...   \n",
      "1354           0.3           Android    Yes       Yes  Yes              2   \n",
      "1355           5.0           Android    Yes       Yes  Yes              2   \n",
      "1356           2.0           Android    Yes       Yes   No              2   \n",
      "1357           0.3           Android    Yes       Yes  Yes              2   \n",
      "1358           0.0           Android    Yes       Yes  Yes              2   \n",
      "\n",
      "       3G  4G/ LTE   Price  \n",
      "0     Yes      Yes   58998  \n",
      "1     Yes      Yes   27999  \n",
      "2     Yes      Yes  106900  \n",
      "3     Yes      Yes   62900  \n",
      "4      No       No   49990  \n",
      "...   ...      ...     ...  \n",
      "1354  Yes       No    2599  \n",
      "1355  Yes       No    2940  \n",
      "1356  Yes       No    2999  \n",
      "1357  Yes       No    2498  \n",
      "1358  Yes       No    3999  \n",
      "\n",
      "[1359 rows x 22 columns]\n",
      "       Brand              Model Storage    RAM  Screen Size (inches)   \n",
      "0      Apple      iPhone 13 Pro   128 GB   6 GB                  6.1  \\\n",
      "1    Samsung   Galaxy S21 Ultra   256 GB  12 GB                  6.8   \n",
      "2    OnePlus              9 Pro   128 GB   8 GB                  6.7   \n",
      "3     Xiaomi  Redmi Note 10 Pro   128 GB   6 GB                 6.67   \n",
      "4     Google            Pixel 6   128 GB   8 GB                  6.4   \n",
      "..       ...                ...      ...    ...                  ...   \n",
      "402  Samsung   Galaxy Note20 5G      128      8                  6.7   \n",
      "403   Xiaomi      Mi 10 Lite 5G      128      6                 6.57   \n",
      "404    Apple  iPhone 12 Pro Max      128      6                  6.7   \n",
      "405     Oppo              Reno3      128      8                  6.4   \n",
      "406  Samsung    Galaxy S10 Lite      128      6                  6.7   \n",
      "\n",
      "            Camera (MP)  Battery Capacity (mAh) Price  \n",
      "0          12 + 12 + 12                    3095   999  \n",
      "1    108 + 10 + 10 + 12                    5000  1199  \n",
      "2       48 + 50 + 8 + 2                    4500   899  \n",
      "3        64 + 8 + 5 + 2                    5020   279  \n",
      "4             50 + 12.2                    4614   799  \n",
      "..                  ...                     ...   ...  \n",
      "402            12+64+12                    4300  1049  \n",
      "403            48+8+2+2                    4160   349  \n",
      "404            12+12+12                    3687  1099  \n",
      "405           48+13+8+2                    4025   429  \n",
      "406             48+12+5                    4500   649  \n",
      "\n",
      "[407 rows x 8 columns]\n"
     ]
    }
   ],
   "source": [
    "import pandas as pd\n",
    "\n",
    "df_in = pd.read_csv(\"datasets/inr_pricing.csv\")\n",
    "df_us = pd.read_csv(\"datasets/usd_pricing.csv\")\n",
    "print(df_in)\n",
    "print(df_us)"
   ]
  },
  {
   "cell_type": "markdown",
   "metadata": {},
   "source": [
    "## Cleaing up the database\n",
    "There are many rows in both the database, but mainly we are comparing only the price so we will sort out the price for the two databases. We have changed the row name for the raw data for the US database, since it will be easier to understand. Notice that we only need integers in the analysis of the database, since some values in the US dataframe contain the **$** sign we need to remove it from the dataframe."
   ]
  },
  {
   "cell_type": "code",
   "execution_count": 50,
   "metadata": {},
   "outputs": [
    {
     "name": "stdout",
     "output_type": "stream",
     "text": [
      "    Price\n",
      "0     999\n",
      "1    1199\n",
      "2     899\n",
      "3     279\n",
      "4     799\n",
      "..    ...\n",
      "402  1049\n",
      "403   349\n",
      "404  1099\n",
      "405   429\n",
      "406   649\n",
      "\n",
      "[407 rows x 1 columns]\n"
     ]
    }
   ],
   "source": [
    "# working with the base  database\n",
    "price_in = df_in[\"Price\"].to_frame()\n",
    "price_us = df_us[\"Price\"].to_frame()\n",
    "# stripping the $ and ,sign from us database\n",
    "price_us = price_us[\"Price\"].str.replace('$,', \"\").to_frame()\n",
    "# print(price_in)\n",
    "print(price_us)"
   ]
  },
  {
   "cell_type": "markdown",
   "metadata": {},
   "source": [
    "## Finding the mean and standard deviation\n",
    "Now we have cleaned up the database to only show the pricing for both the markets we need to find the mean and standard deviation for both the databases. For this a function is already bundled with pandas to find the mean and standard deviation."
   ]
  },
  {
   "cell_type": "code",
   "execution_count": 49,
   "metadata": {},
   "outputs": [
    {
     "ename": "TypeError",
     "evalue": "Could not convert 9991199899279799799999249699119932944932969911993297991992993791792792497292795991392991391894491793992592791592293991994991591291893995296993691991591791891099169994592391991299249429659199399269239449359229499179169239329369599799139$799 $799 $399 $699 $329 $399 $999 $699 $699 $549 $1,299 $999 $899 $399 $449 $319 $269 $349 $269 $279 $249 $349 $699 $699 $299 $999 $969 $1,199 $149 $139 $99 $699 $99 $199 $169 $999 $499 $399 $799 $179 $219 $249 $149 $199 $279 $179 $899 $269 $229 $399 $239 $149 $279 $329 $149 $549 $449 $279 $199 $399 $179 $399 $109 $219 $149 $299 $279 $149 $189 $169 $389 $1,199 $299 $219 $299 $149 $249 $219 $249 $179 $299 $309 $179 $369 $349 $499 $199 $229 $299 $129 $449 $499 $279 $399 $849 $279 $299 $249 $149 $199 $469 $329 $279 $369 $269 $329 $299 $299 $239 $329 $149 $189 $449 $399 $249 $189 $209 $199 $299 $329 $249 $149 $119 $219 $279 $299 $269 $339 $299 $319 $279 $429 $269 $199 $159 $179 $299 $149 $169 $99 $149 $139 $279 $219 $149 $429 $279 $379 $149 $169 $329 $179 $329 $449 $399 $289 $149 $449 $199 $179 $229 $209 $139 $99 $199 $549 $239 $299 $199 $249 $279 $149 $469 $99 $249 $199 $249 $249 $319 $179 $279 $349 $219 $149 $99 $119 $169 $139 $159 $289 $199 $199 $179 130$199 $249 $99 $129 $149 $129 $139 $229 $179 $139 $159 $179 $199 $189 $129 $229 $279 12993992496991199299449599499109974919949969944974914979915929959911992798991099969299799179179799229399699649999349599699419199399109924969939944979917927910992792493999996996992492796992492293299993994994494991793991991994491399109999917917979913992298991997292291999599799999699139449119279299199999329329799749199699349119974919929959914944931932932910493491099429649 to numeric",
     "output_type": "error",
     "traceback": [
      "\u001b[1;31m---------------------------------------------------------------------------\u001b[0m",
      "\u001b[1;31mValueError\u001b[0m                                Traceback (most recent call last)",
      "File \u001b[1;32mc:\\Python311\\Lib\\site-packages\\pandas\\core\\nanops.py:1692\u001b[0m, in \u001b[0;36m_ensure_numeric\u001b[1;34m(x)\u001b[0m\n\u001b[0;32m   1691\u001b[0m \u001b[39mtry\u001b[39;00m:\n\u001b[1;32m-> 1692\u001b[0m     x \u001b[39m=\u001b[39m \u001b[39mfloat\u001b[39m(x)\n\u001b[0;32m   1693\u001b[0m \u001b[39mexcept\u001b[39;00m (\u001b[39mTypeError\u001b[39;00m, \u001b[39mValueError\u001b[39;00m):\n\u001b[0;32m   1694\u001b[0m     \u001b[39m# e.g. \"1+1j\" or \"foo\"\u001b[39;00m\n",
      "\u001b[1;31mValueError\u001b[0m: could not convert string to float: '9991199899279799799999249699119932944932969911993297991992993791792792497292795991392991391894491793992592791592293991994991591291893995296993691991591791891099169994592391991299249429659199399269239449359229499179169239329369599799139$799 $799 $399 $699 $329 $399 $999 $699 $699 $549 $1,299 $999 $899 $399 $449 $319 $269 $349 $269 $279 $249 $349 $699 $699 $299 $999 $969 $1,199 $149 $139 $99 $699 $99 $199 $169 $999 $499 $399 $799 $179 $219 $249 $149 $199 $279 $179 $899 $269 $229 $399 $239 $149 $279 $329 $149 $549 $449 $279 $199 $399 $179 $399 $109 $219 $149 $299 $279 $149 $189 $169 $389 $1,199 $299 $219 $299 $149 $249 $219 $249 $179 $299 $309 $179 $369 $349 $499 $199 $229 $299 $129 $449 $499 $279 $399 $849 $279 $299 $249 $149 $199 $469 $329 $279 $369 $269 $329 $299 $299 $239 $329 $149 $189 $449 $399 $249 $189 $209 $199 $299 $329 $249 $149 $119 $219 $279 $299 $269 $339 $299 $319 $279 $429 $269 $199 $159 $179 $299 $149 $169 $99 $149 $139 $279 $219 $149 $429 $279 $379 $149 $169 $329 $179 $329 $449 $399 $289 $149 $449 $199 $179 $229 $209 $139 $99 $199 $549 $239 $299 $199 $249 $279 $149 $469 $99 $249 $199 $249 $249 $319 $179 $279 $349 $219 $149 $99 $119 $169 $139 $159 $289 $199 $199 $179 130$199 $249 $99 $129 $149 $129 $139 $229 $179 $139 $159 $179 $199 $189 $129 $229 $279 12993992496991199299449599499109974919949969944974914979915929959911992798991099969299799179179799229399699649999349599699419199399109924969939944979917927910992792493999996996992492796992492293299993994994494991793991991994491399109999917917979913992298991997292291999599799999699139449119279299199999329329799749199699349119974919929959914944931932932910493491099429649'",
      "\nDuring handling of the above exception, another exception occurred:\n",
      "\u001b[1;31mValueError\u001b[0m                                Traceback (most recent call last)",
      "File \u001b[1;32mc:\\Python311\\Lib\\site-packages\\pandas\\core\\nanops.py:1696\u001b[0m, in \u001b[0;36m_ensure_numeric\u001b[1;34m(x)\u001b[0m\n\u001b[0;32m   1695\u001b[0m \u001b[39mtry\u001b[39;00m:\n\u001b[1;32m-> 1696\u001b[0m     x \u001b[39m=\u001b[39m \u001b[39mcomplex\u001b[39;49m(x)\n\u001b[0;32m   1697\u001b[0m \u001b[39mexcept\u001b[39;00m \u001b[39mValueError\u001b[39;00m \u001b[39mas\u001b[39;00m err:\n\u001b[0;32m   1698\u001b[0m     \u001b[39m# e.g. \"foo\"\u001b[39;00m\n",
      "\u001b[1;31mValueError\u001b[0m: complex() arg is a malformed string",
      "\nThe above exception was the direct cause of the following exception:\n",
      "\u001b[1;31mTypeError\u001b[0m                                 Traceback (most recent call last)",
      "Cell \u001b[1;32mIn[49], line 3\u001b[0m\n\u001b[0;32m      1\u001b[0m \u001b[39m# finding mean\u001b[39;00m\n\u001b[0;32m      2\u001b[0m mean_in \u001b[39m=\u001b[39m price_in[\u001b[39m\"\u001b[39m\u001b[39mPrice\u001b[39m\u001b[39m\"\u001b[39m]\u001b[39m.\u001b[39mmean()\n\u001b[1;32m----> 3\u001b[0m mean_us \u001b[39m=\u001b[39m price_us[\u001b[39m\"\u001b[39;49m\u001b[39mPrice\u001b[39;49m\u001b[39m\"\u001b[39;49m]\u001b[39m.\u001b[39;49mmean()\n\u001b[0;32m      4\u001b[0m \u001b[39m'''\u001b[39;00m\n\u001b[0;32m      5\u001b[0m \u001b[39m# finding standard deviaiton\u001b[39;00m\n\u001b[0;32m      6\u001b[0m \u001b[39msd_in = price_in[\"Price\"].std()\u001b[39;00m\n\u001b[0;32m      7\u001b[0m \u001b[39msd_us = price_us[\"Price\"].std()\u001b[39;00m\n\u001b[0;32m      8\u001b[0m \n\u001b[0;32m      9\u001b[0m \u001b[39m'''\u001b[39;00m\n\u001b[0;32m     10\u001b[0m \u001b[39m# printing the values\u001b[39;00m\n\u001b[0;32m     11\u001b[0m \u001b[39m# print(f\"The mean of Indian market is ₹{round(mean_in, 2)} and the mean of US market is\")\u001b[39;00m\n",
      "File \u001b[1;32mc:\\Python311\\Lib\\site-packages\\pandas\\core\\generic.py:11556\u001b[0m, in \u001b[0;36mNDFrame._add_numeric_operations.<locals>.mean\u001b[1;34m(self, axis, skipna, numeric_only, **kwargs)\u001b[0m\n\u001b[0;32m  11539\u001b[0m \u001b[39m@doc\u001b[39m(\n\u001b[0;32m  11540\u001b[0m     _num_doc,\n\u001b[0;32m  11541\u001b[0m     desc\u001b[39m=\u001b[39m\u001b[39m\"\u001b[39m\u001b[39mReturn the mean of the values over the requested axis.\u001b[39m\u001b[39m\"\u001b[39m,\n\u001b[1;32m   (...)\u001b[0m\n\u001b[0;32m  11554\u001b[0m     \u001b[39m*\u001b[39m\u001b[39m*\u001b[39mkwargs,\n\u001b[0;32m  11555\u001b[0m ):\n\u001b[1;32m> 11556\u001b[0m     \u001b[39mreturn\u001b[39;00m NDFrame\u001b[39m.\u001b[39;49mmean(\u001b[39mself\u001b[39;49m, axis, skipna, numeric_only, \u001b[39m*\u001b[39;49m\u001b[39m*\u001b[39;49mkwargs)\n",
      "File \u001b[1;32mc:\\Python311\\Lib\\site-packages\\pandas\\core\\generic.py:11201\u001b[0m, in \u001b[0;36mNDFrame.mean\u001b[1;34m(self, axis, skipna, numeric_only, **kwargs)\u001b[0m\n\u001b[0;32m  11194\u001b[0m \u001b[39mdef\u001b[39;00m \u001b[39mmean\u001b[39m(\n\u001b[0;32m  11195\u001b[0m     \u001b[39mself\u001b[39m,\n\u001b[0;32m  11196\u001b[0m     axis: Axis \u001b[39m|\u001b[39m \u001b[39mNone\u001b[39;00m \u001b[39m=\u001b[39m \u001b[39m0\u001b[39m,\n\u001b[1;32m   (...)\u001b[0m\n\u001b[0;32m  11199\u001b[0m     \u001b[39m*\u001b[39m\u001b[39m*\u001b[39mkwargs,\n\u001b[0;32m  11200\u001b[0m ) \u001b[39m-\u001b[39m\u001b[39m>\u001b[39m Series \u001b[39m|\u001b[39m \u001b[39mfloat\u001b[39m:\n\u001b[1;32m> 11201\u001b[0m     \u001b[39mreturn\u001b[39;00m \u001b[39mself\u001b[39;49m\u001b[39m.\u001b[39;49m_stat_function(\n\u001b[0;32m  11202\u001b[0m         \u001b[39m\"\u001b[39;49m\u001b[39mmean\u001b[39;49m\u001b[39m\"\u001b[39;49m, nanops\u001b[39m.\u001b[39;49mnanmean, axis, skipna, numeric_only, \u001b[39m*\u001b[39;49m\u001b[39m*\u001b[39;49mkwargs\n\u001b[0;32m  11203\u001b[0m     )\n",
      "File \u001b[1;32mc:\\Python311\\Lib\\site-packages\\pandas\\core\\generic.py:11158\u001b[0m, in \u001b[0;36mNDFrame._stat_function\u001b[1;34m(self, name, func, axis, skipna, numeric_only, **kwargs)\u001b[0m\n\u001b[0;32m  11154\u001b[0m     nv\u001b[39m.\u001b[39mvalidate_stat_func((), kwargs, fname\u001b[39m=\u001b[39mname)\n\u001b[0;32m  11156\u001b[0m validate_bool_kwarg(skipna, \u001b[39m\"\u001b[39m\u001b[39mskipna\u001b[39m\u001b[39m\"\u001b[39m, none_allowed\u001b[39m=\u001b[39m\u001b[39mFalse\u001b[39;00m)\n\u001b[1;32m> 11158\u001b[0m \u001b[39mreturn\u001b[39;00m \u001b[39mself\u001b[39;49m\u001b[39m.\u001b[39;49m_reduce(\n\u001b[0;32m  11159\u001b[0m     func, name\u001b[39m=\u001b[39;49mname, axis\u001b[39m=\u001b[39;49maxis, skipna\u001b[39m=\u001b[39;49mskipna, numeric_only\u001b[39m=\u001b[39;49mnumeric_only\n\u001b[0;32m  11160\u001b[0m )\n",
      "File \u001b[1;32mc:\\Python311\\Lib\\site-packages\\pandas\\core\\series.py:4666\u001b[0m, in \u001b[0;36mSeries._reduce\u001b[1;34m(self, op, name, axis, skipna, numeric_only, filter_type, **kwds)\u001b[0m\n\u001b[0;32m   4661\u001b[0m     \u001b[39mraise\u001b[39;00m \u001b[39mTypeError\u001b[39;00m(\n\u001b[0;32m   4662\u001b[0m         \u001b[39mf\u001b[39m\u001b[39m\"\u001b[39m\u001b[39mSeries.\u001b[39m\u001b[39m{\u001b[39;00mname\u001b[39m}\u001b[39;00m\u001b[39m does not allow \u001b[39m\u001b[39m{\u001b[39;00mkwd_name\u001b[39m}\u001b[39;00m\u001b[39m=\u001b[39m\u001b[39m{\u001b[39;00mnumeric_only\u001b[39m}\u001b[39;00m\u001b[39m \u001b[39m\u001b[39m\"\u001b[39m\n\u001b[0;32m   4663\u001b[0m         \u001b[39m\"\u001b[39m\u001b[39mwith non-numeric dtypes.\u001b[39m\u001b[39m\"\u001b[39m\n\u001b[0;32m   4664\u001b[0m     )\n\u001b[0;32m   4665\u001b[0m \u001b[39mwith\u001b[39;00m np\u001b[39m.\u001b[39merrstate(\u001b[39mall\u001b[39m\u001b[39m=\u001b[39m\u001b[39m\"\u001b[39m\u001b[39mignore\u001b[39m\u001b[39m\"\u001b[39m):\n\u001b[1;32m-> 4666\u001b[0m     \u001b[39mreturn\u001b[39;00m op(delegate, skipna\u001b[39m=\u001b[39;49mskipna, \u001b[39m*\u001b[39;49m\u001b[39m*\u001b[39;49mkwds)\n",
      "File \u001b[1;32mc:\\Python311\\Lib\\site-packages\\pandas\\core\\nanops.py:96\u001b[0m, in \u001b[0;36mdisallow.__call__.<locals>._f\u001b[1;34m(*args, **kwargs)\u001b[0m\n\u001b[0;32m     94\u001b[0m \u001b[39mtry\u001b[39;00m:\n\u001b[0;32m     95\u001b[0m     \u001b[39mwith\u001b[39;00m np\u001b[39m.\u001b[39merrstate(invalid\u001b[39m=\u001b[39m\u001b[39m\"\u001b[39m\u001b[39mignore\u001b[39m\u001b[39m\"\u001b[39m):\n\u001b[1;32m---> 96\u001b[0m         \u001b[39mreturn\u001b[39;00m f(\u001b[39m*\u001b[39;49margs, \u001b[39m*\u001b[39;49m\u001b[39m*\u001b[39;49mkwargs)\n\u001b[0;32m     97\u001b[0m \u001b[39mexcept\u001b[39;00m \u001b[39mValueError\u001b[39;00m \u001b[39mas\u001b[39;00m e:\n\u001b[0;32m     98\u001b[0m     \u001b[39m# we want to transform an object array\u001b[39;00m\n\u001b[0;32m     99\u001b[0m     \u001b[39m# ValueError message to the more typical TypeError\u001b[39;00m\n\u001b[0;32m    100\u001b[0m     \u001b[39m# e.g. this is normally a disallowed function on\u001b[39;00m\n\u001b[0;32m    101\u001b[0m     \u001b[39m# object arrays that contain strings\u001b[39;00m\n\u001b[0;32m    102\u001b[0m     \u001b[39mif\u001b[39;00m is_object_dtype(args[\u001b[39m0\u001b[39m]):\n",
      "File \u001b[1;32mc:\\Python311\\Lib\\site-packages\\pandas\\core\\nanops.py:158\u001b[0m, in \u001b[0;36mbottleneck_switch.__call__.<locals>.f\u001b[1;34m(values, axis, skipna, **kwds)\u001b[0m\n\u001b[0;32m    156\u001b[0m         result \u001b[39m=\u001b[39m alt(values, axis\u001b[39m=\u001b[39maxis, skipna\u001b[39m=\u001b[39mskipna, \u001b[39m*\u001b[39m\u001b[39m*\u001b[39mkwds)\n\u001b[0;32m    157\u001b[0m \u001b[39melse\u001b[39;00m:\n\u001b[1;32m--> 158\u001b[0m     result \u001b[39m=\u001b[39m alt(values, axis\u001b[39m=\u001b[39;49maxis, skipna\u001b[39m=\u001b[39;49mskipna, \u001b[39m*\u001b[39;49m\u001b[39m*\u001b[39;49mkwds)\n\u001b[0;32m    160\u001b[0m \u001b[39mreturn\u001b[39;00m result\n",
      "File \u001b[1;32mc:\\Python311\\Lib\\site-packages\\pandas\\core\\nanops.py:421\u001b[0m, in \u001b[0;36m_datetimelike_compat.<locals>.new_func\u001b[1;34m(values, axis, skipna, mask, **kwargs)\u001b[0m\n\u001b[0;32m    418\u001b[0m \u001b[39mif\u001b[39;00m datetimelike \u001b[39mand\u001b[39;00m mask \u001b[39mis\u001b[39;00m \u001b[39mNone\u001b[39;00m:\n\u001b[0;32m    419\u001b[0m     mask \u001b[39m=\u001b[39m isna(values)\n\u001b[1;32m--> 421\u001b[0m result \u001b[39m=\u001b[39m func(values, axis\u001b[39m=\u001b[39;49maxis, skipna\u001b[39m=\u001b[39;49mskipna, mask\u001b[39m=\u001b[39;49mmask, \u001b[39m*\u001b[39;49m\u001b[39m*\u001b[39;49mkwargs)\n\u001b[0;32m    423\u001b[0m \u001b[39mif\u001b[39;00m datetimelike:\n\u001b[0;32m    424\u001b[0m     result \u001b[39m=\u001b[39m _wrap_results(result, orig_values\u001b[39m.\u001b[39mdtype, fill_value\u001b[39m=\u001b[39miNaT)\n",
      "File \u001b[1;32mc:\\Python311\\Lib\\site-packages\\pandas\\core\\nanops.py:727\u001b[0m, in \u001b[0;36mnanmean\u001b[1;34m(values, axis, skipna, mask)\u001b[0m\n\u001b[0;32m    724\u001b[0m     dtype_count \u001b[39m=\u001b[39m dtype\n\u001b[0;32m    726\u001b[0m count \u001b[39m=\u001b[39m _get_counts(values\u001b[39m.\u001b[39mshape, mask, axis, dtype\u001b[39m=\u001b[39mdtype_count)\n\u001b[1;32m--> 727\u001b[0m the_sum \u001b[39m=\u001b[39m _ensure_numeric(values\u001b[39m.\u001b[39;49msum(axis, dtype\u001b[39m=\u001b[39;49mdtype_sum))\n\u001b[0;32m    729\u001b[0m \u001b[39mif\u001b[39;00m axis \u001b[39mis\u001b[39;00m \u001b[39mnot\u001b[39;00m \u001b[39mNone\u001b[39;00m \u001b[39mand\u001b[39;00m \u001b[39mgetattr\u001b[39m(the_sum, \u001b[39m\"\u001b[39m\u001b[39mndim\u001b[39m\u001b[39m\"\u001b[39m, \u001b[39mFalse\u001b[39;00m):\n\u001b[0;32m    730\u001b[0m     count \u001b[39m=\u001b[39m cast(np\u001b[39m.\u001b[39mndarray, count)\n",
      "File \u001b[1;32mc:\\Python311\\Lib\\site-packages\\pandas\\core\\nanops.py:1699\u001b[0m, in \u001b[0;36m_ensure_numeric\u001b[1;34m(x)\u001b[0m\n\u001b[0;32m   1696\u001b[0m             x \u001b[39m=\u001b[39m \u001b[39mcomplex\u001b[39m(x)\n\u001b[0;32m   1697\u001b[0m         \u001b[39mexcept\u001b[39;00m \u001b[39mValueError\u001b[39;00m \u001b[39mas\u001b[39;00m err:\n\u001b[0;32m   1698\u001b[0m             \u001b[39m# e.g. \"foo\"\u001b[39;00m\n\u001b[1;32m-> 1699\u001b[0m             \u001b[39mraise\u001b[39;00m \u001b[39mTypeError\u001b[39;00m(\u001b[39mf\u001b[39m\u001b[39m\"\u001b[39m\u001b[39mCould not convert \u001b[39m\u001b[39m{\u001b[39;00mx\u001b[39m}\u001b[39;00m\u001b[39m to numeric\u001b[39m\u001b[39m\"\u001b[39m) \u001b[39mfrom\u001b[39;00m \u001b[39merr\u001b[39;00m\n\u001b[0;32m   1700\u001b[0m \u001b[39mreturn\u001b[39;00m x\n",
      "\u001b[1;31mTypeError\u001b[0m: Could not convert 9991199899279799799999249699119932944932969911993297991992993791792792497292795991392991391894491793992592791592293991994991591291893995296993691991591791891099169994592391991299249429659199399269239449359229499179169239329369599799139$799 $799 $399 $699 $329 $399 $999 $699 $699 $549 $1,299 $999 $899 $399 $449 $319 $269 $349 $269 $279 $249 $349 $699 $699 $299 $999 $969 $1,199 $149 $139 $99 $699 $99 $199 $169 $999 $499 $399 $799 $179 $219 $249 $149 $199 $279 $179 $899 $269 $229 $399 $239 $149 $279 $329 $149 $549 $449 $279 $199 $399 $179 $399 $109 $219 $149 $299 $279 $149 $189 $169 $389 $1,199 $299 $219 $299 $149 $249 $219 $249 $179 $299 $309 $179 $369 $349 $499 $199 $229 $299 $129 $449 $499 $279 $399 $849 $279 $299 $249 $149 $199 $469 $329 $279 $369 $269 $329 $299 $299 $239 $329 $149 $189 $449 $399 $249 $189 $209 $199 $299 $329 $249 $149 $119 $219 $279 $299 $269 $339 $299 $319 $279 $429 $269 $199 $159 $179 $299 $149 $169 $99 $149 $139 $279 $219 $149 $429 $279 $379 $149 $169 $329 $179 $329 $449 $399 $289 $149 $449 $199 $179 $229 $209 $139 $99 $199 $549 $239 $299 $199 $249 $279 $149 $469 $99 $249 $199 $249 $249 $319 $179 $279 $349 $219 $149 $99 $119 $169 $139 $159 $289 $199 $199 $179 130$199 $249 $99 $129 $149 $129 $139 $229 $179 $139 $159 $179 $199 $189 $129 $229 $279 12993992496991199299449599499109974919949969944974914979915929959911992798991099969299799179179799229399699649999349599699419199399109924969939944979917927910992792493999996996992492796992492293299993994994494991793991991994491399109999917917979913992298991997292291999599799999699139449119279299199999329329799749199699349119974919929959914944931932932910493491099429649 to numeric"
     ]
    }
   ],
   "source": [
    "# finding mean\n",
    "mean_in = price_in[\"Price\"].mean()\n",
    "mean_us = price_us[\"Price\"].mean()\n",
    "'''\n",
    "# finding standard deviaiton\n",
    "sd_in = price_in[\"Price\"].std()\n",
    "sd_us = price_us[\"Price\"].std()\n",
    "\n",
    "'''\n",
    "# printing the values\n",
    "# print(f\"The mean of Indian market is ₹{round(mean_in, 2)} and the mean of US market is\")\n",
    "print(f\"The mean of Indian market is ₹{round(mean_in, 2)} and the mean of US market is ${round(mean_us, 2)}\")\n",
    "# print(f\"The SD of Indian market is ₹{sd_in} and the SD of US market is ${sd_us}.\")"
   ]
  }
 ],
 "metadata": {
  "kernelspec": {
   "display_name": "Python 3",
   "language": "python",
   "name": "python3"
  },
  "language_info": {
   "codemirror_mode": {
    "name": "ipython",
    "version": 3
   },
   "file_extension": ".py",
   "mimetype": "text/x-python",
   "name": "python",
   "nbconvert_exporter": "python",
   "pygments_lexer": "ipython3",
   "version": "3.11.3"
  },
  "orig_nbformat": 4
 },
 "nbformat": 4,
 "nbformat_minor": 2
}
