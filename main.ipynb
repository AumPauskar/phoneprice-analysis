{
 "cells": [
  {
   "cell_type": "markdown",
   "metadata": {},
   "source": [
    "# Hypothesis testing\n",
    "A case study of hypothesis testing in comparision of two fields of mobile prices\n",
    "\n",
    "## Contents\n",
    "1. Importing the database using pandas\n",
    "2. Cleaning up the database\n",
    "3. Finding the mean and the standard deviation\n",
    "4. Taking consistent currency units\n",
    "5. Hypothesis and alternative hypothesis\n",
    "6. Finding level of significance\n",
    "7. Conclusion"
   ]
  },
  {
   "cell_type": "markdown",
   "metadata": {},
   "source": [
    "## Importing the database\n",
    "We are using pandas to read two csv files named `inr_pricing.csv` and `usd_pricing.csv` these are two different statistical record accquired from [kaggle](https://www.kaggle.com/) to do the hypothesis testing."
   ]
  },
  {
   "cell_type": "code",
   "execution_count": 13,
   "metadata": {},
   "outputs": [
    {
     "name": "stdout",
     "output_type": "stream",
     "text": [
      "      Unnamed: 0                            Name     Brand   \n",
      "0              0  OnePlus 7T Pro McLaren Edition   OnePlus  \\\n",
      "1              1                   Realme X2 Pro    Realme   \n",
      "2              2               iPhone 11 Pro Max     Apple   \n",
      "3              3                       iPhone 11     Apple   \n",
      "4              4                    LG G8X ThinQ        LG   \n",
      "...          ...                             ...       ...   \n",
      "1354        1354                   Intex Aqua A2     Intex   \n",
      "1355        1355     Videocon Infinium Z51 Nova+  Videocon   \n",
      "1356        1356                   Intex Aqua Y4     Intex   \n",
      "1357        1357                 iBall Andi4 B20     iBall   \n",
      "1358        1358             iBall Andi Avonte 5     iBall   \n",
      "\n",
      "                       Model  Battery capacity (mAh)  Screen size (inches)   \n",
      "0     7T Pro McLaren Edition                    4085                  6.67  \\\n",
      "1                     X2 Pro                    4000                  6.50   \n",
      "2          iPhone 11 Pro Max                    3969                  6.50   \n",
      "3                  iPhone 11                    3110                  6.10   \n",
      "4                  G8X ThinQ                    4000                  6.40   \n",
      "...                      ...                     ...                   ...   \n",
      "1354                 Aqua A2                    1500                  4.00   \n",
      "1355      Infinium Z51 Nova+                    2000                  5.00   \n",
      "1356                 Aqua Y4                    1700                  4.50   \n",
      "1357               Andi4 B20                    1250                  4.00   \n",
      "1358           Andi Avonte 5                    2150                  5.00   \n",
      "\n",
      "     Touchscreen  Resolution x  Resolution y  Processor  ...  Rear camera   \n",
      "0            Yes          1440          3120          8  ...         48.0  \\\n",
      "1            Yes          1080          2400          8  ...         64.0   \n",
      "2            Yes          1242          2688          6  ...         12.0   \n",
      "3            Yes           828          1792          6  ...         12.0   \n",
      "4            Yes          1080          2340          8  ...         12.0   \n",
      "...          ...           ...           ...        ...  ...          ...   \n",
      "1354         Yes           480           800          4  ...          5.0   \n",
      "1355         Yes           480           854          4  ...          8.0   \n",
      "1356         Yes           480           854          2  ...          5.0   \n",
      "1357         Yes           480           800          1  ...          2.0   \n",
      "1358         Yes           480           854          4  ...          8.0   \n",
      "\n",
      "      Front camera  Operating system  Wi-Fi Bluetooth  GPS Number of SIMs   \n",
      "0             16.0           Android    Yes       Yes  Yes              2  \\\n",
      "1             16.0           Android    Yes       Yes  Yes              2   \n",
      "2             12.0               iOS    Yes       Yes  Yes              2   \n",
      "3             12.0               iOS    Yes       Yes  Yes              2   \n",
      "4             32.0           Android    Yes       Yes  Yes              1   \n",
      "...            ...               ...    ...       ...  ...            ...   \n",
      "1354           0.3           Android    Yes       Yes  Yes              2   \n",
      "1355           5.0           Android    Yes       Yes  Yes              2   \n",
      "1356           2.0           Android    Yes       Yes   No              2   \n",
      "1357           0.3           Android    Yes       Yes  Yes              2   \n",
      "1358           0.0           Android    Yes       Yes  Yes              2   \n",
      "\n",
      "       3G  4G/ LTE   Price  \n",
      "0     Yes      Yes   58998  \n",
      "1     Yes      Yes   27999  \n",
      "2     Yes      Yes  106900  \n",
      "3     Yes      Yes   62900  \n",
      "4      No       No   49990  \n",
      "...   ...      ...     ...  \n",
      "1354  Yes       No    2599  \n",
      "1355  Yes       No    2940  \n",
      "1356  Yes       No    2999  \n",
      "1357  Yes       No    2498  \n",
      "1358  Yes       No    3999  \n",
      "\n",
      "[1359 rows x 22 columns]\n",
      "       Brand              Model Storage    RAM  Screen Size (inches)   \n",
      "0      Apple      iPhone 13 Pro   128 GB   6 GB                  6.1  \\\n",
      "1    Samsung   Galaxy S21 Ultra   256 GB  12 GB                  6.8   \n",
      "2    OnePlus              9 Pro   128 GB   8 GB                  6.7   \n",
      "3     Xiaomi  Redmi Note 10 Pro   128 GB   6 GB                 6.67   \n",
      "4     Google            Pixel 6   128 GB   8 GB                  6.4   \n",
      "..       ...                ...      ...    ...                  ...   \n",
      "402  Samsung   Galaxy Note20 5G      128      8                  6.7   \n",
      "403   Xiaomi      Mi 10 Lite 5G      128      6                 6.57   \n",
      "404    Apple  iPhone 12 Pro Max      128      6                  6.7   \n",
      "405     Oppo              Reno3      128      8                  6.4   \n",
      "406  Samsung    Galaxy S10 Lite      128      6                  6.7   \n",
      "\n",
      "            Camera (MP)  Battery Capacity (mAh) Price  \n",
      "0          12 + 12 + 12                    3095   999  \n",
      "1    108 + 10 + 10 + 12                    5000  1199  \n",
      "2       48 + 50 + 8 + 2                    4500   899  \n",
      "3        64 + 8 + 5 + 2                    5020   279  \n",
      "4             50 + 12.2                    4614   799  \n",
      "..                  ...                     ...   ...  \n",
      "402            12+64+12                    4300  1049  \n",
      "403            48+8+2+2                    4160   349  \n",
      "404            12+12+12                    3687  1099  \n",
      "405           48+13+8+2                    4025   429  \n",
      "406             48+12+5                    4500   649  \n",
      "\n",
      "[407 rows x 8 columns]\n"
     ]
    }
   ],
   "source": [
    "import pandas as pd\n",
    "\n",
    "df_in = pd.read_csv(\"datasets/inr_pricing.csv\")\n",
    "df_us = pd.read_csv(\"datasets/usd_pricing.csv\")\n",
    "print(df_in)\n",
    "print(df_us)"
   ]
  },
  {
   "cell_type": "markdown",
   "metadata": {},
   "source": [
    "## Cleaning up the database\n",
    "There are many rows in both the database, but mainly we are comparing only the price so we will sort out the price for the two databases. We have changed the row name for the raw data for the US database, since it will be easier to understand. Notice that we only need integers in the analysis of the database, since some values in the US dataframe contain the **$** sign we need to remove it from the dataframe."
   ]
  },
  {
   "cell_type": "code",
   "execution_count": 14,
   "metadata": {},
   "outputs": [
    {
     "name": "stdout",
     "output_type": "stream",
     "text": [
      "    Price\n",
      "0     999\n",
      "1    1199\n",
      "2     899\n",
      "3     279\n",
      "4     799\n",
      "..    ...\n",
      "402  1049\n",
      "403   349\n",
      "404  1099\n",
      "405   429\n",
      "406   649\n",
      "\n",
      "[407 rows x 1 columns]\n"
     ]
    }
   ],
   "source": [
    "# working with the base  database\n",
    "price_in = df_in[\"Price\"].to_frame()\n",
    "price_us = df_us[\"Price\"].to_frame()\n",
    "# stripping the $ and ,sign from us database\n",
    "price_us = price_us[\"Price\"].str.replace('$,', \"\").to_frame()\n",
    "# print(price_in)\n",
    "print(price_us)"
   ]
  },
  {
   "cell_type": "markdown",
   "metadata": {},
   "source": [
    "## Finding the mean and standard deviation\n",
    "Now we have cleaned up the database to only show the pricing for both the markets we need to find the mean and standard deviation for both the databases. For this a function is already bundled with pandas to find the mean and standard deviation. We will also count the number of entries in the dataset.\n",
    "\n",
    "If we were not using python and relying only on mathematical functions then the formula would be \\\n",
    "x̄ = $\\sum (fixi) \\over (fi)$ \\\n",
    "For unordered data its \\\n",
    "x̄ = $\\sum fx \\over n $\n",
    "\n",
    "σ = $\\sqrt(\\sum(x−x̄))^2 \\over n$\n",
    "\n",
    "x1 = $58998 + 27999 + ... + 3999 \\over 1359$\n",
    "\n",
    "x2 = $999 + 1199 + ... + 649 \\over 407$\n",
    "\n",
    "σ1 = $\\sqrt(58998 - 11465.83) + ... \\over 1359$\n",
    "\n",
    "σ2 = $\\sqrt(999 - 423) + ... \\over 423$"
   ]
  },
  {
   "cell_type": "code",
   "execution_count": 15,
   "metadata": {},
   "outputs": [
    {
     "name": "stdout",
     "output_type": "stream",
     "text": [
      "The mean of Indian market is ₹11465.83 and the mean of US market is $413.\n",
      "The SD of Indian market is ₹13857.5 and the SD of US market is $326\n",
      "There are a total of 1359 entries in the Indian dataset and 407 in the US dataset.\n"
     ]
    }
   ],
   "source": [
    "# finding mean\n",
    "mean_in = price_in[\"Price\"].mean()\n",
    "# mean_us = price_us[\"Price\"].mean()\n",
    "\n",
    "# finding standard deviaiton\n",
    "sd_in = price_in[\"Price\"].std()\n",
    "# sd_us = price_us[\"Price\"].std()\n",
    "\n",
    "# taking vals from user\n",
    "mean_us = 413\n",
    "sd_us = 326\n",
    "\n",
    "# counting the number of entries\n",
    "count_in = len(price_in[\"Price\"])\n",
    "count_us = len(price_us[\"Price\"])\n",
    "\n",
    "# printing the values\n",
    "print(f\"The mean of Indian market is ₹{round(mean_in, 2)} and the mean of US market is ${round(mean_us, 2)}.\")\n",
    "print(f\"The SD of Indian market is ₹{round(sd_in, 2)} and the SD of US market is ${round(sd_us,2)}\")\n",
    "print(f\"There are a total of {count_in} entries in the Indian dataset and {count_us} in the US dataset.\")"
   ]
  },
  {
   "cell_type": "markdown",
   "metadata": {},
   "source": [
    "From the calculation we get \\\n",
    "x̄1 = 11463.83 \\\n",
    "x̄2 = 413 \\\n",
    "σ1 = 13857.5 \\\n",
    "σ2 = 326 \\\n",
    "n1 = 1359 \\\n",
    "n2 = 407"
   ]
  },
  {
   "cell_type": "markdown",
   "metadata": {},
   "source": [
    "## Taking consistant currency units\n",
    "Since the currency unit of India is in INR and the currency unit of US is USD, we need a consistant currency unit for the phone prices. As USD is globally accepted as a standard currency unit, we shall convert all the currency values into USD, converting INR into USD. At the time of doing this case study we have found out that the conversion metric of the conversion unit is $1 = ₹0.012. Now we shall multiply both our mean and standard deviation of popularity by this metric.\n",
    "\n",
    "x̄1 = x̄1 * 0.012 \\\n",
    "σ1 = σ1 * 0.012"
   ]
  },
  {
   "cell_type": "code",
   "execution_count": 16,
   "metadata": {},
   "outputs": [
    {
     "name": "stdout",
     "output_type": "stream",
     "text": [
      "137.58990728476823\n",
      "166.2899649198617\n"
     ]
    }
   ],
   "source": [
    "mean_in = mean_in * 0.012\n",
    "sd_in = sd_in * 0.012\n",
    "print(\"Mean India INR:\", mean_in)\n",
    "print(\"Mean India INR:\", sd_in)"
   ]
  },
  {
   "cell_type": "markdown",
   "metadata": {},
   "source": [
    "## Hypothesis and alternative hypothesis\n",
    "\n",
    "- h0 = The two markets have similar prices\n",
    "- h1 = The two markets have completely different prices\n",
    "\n",
    "We shall check the values at 1%, 5% and 10% using **two tailed test**. We are opting for the two tailed test because we are checking only the variation in these two data values and not specifically checking if the value exceeds or lowers."
   ]
  },
  {
   "cell_type": "markdown",
   "metadata": {},
   "source": [
    "## Finding level of significance\n",
    "\n",
    "The formula of level of significance can be given as such\n",
    "\n",
    "z = $x1-x2 \\over \\sqrt({σ1^2 \\over n1} + {σ2^2 \\over n2})$\n",
    "\n",
    "z = $11463.83 - 413 \\over \\sqrt({13857.5^2 \\over 1359} + {326^2 \\over 407})$\n",
    "\n",
    "The standard values for two tailed tests are for **1%, 5% and 10%** are **2.58, 1.966 and 0.645** respectively."
   ]
  },
  {
   "cell_type": "code",
   "execution_count": 17,
   "metadata": {},
   "outputs": [
    {
     "name": "stdout",
     "output_type": "stream",
     "text": [
      "Value of z: -16.415925162146806\n",
      "The hypothesis is rejected at all levels\n"
     ]
    }
   ],
   "source": [
    "import math\n",
    "z = (mean_in - mean_us) / math.sqrt((sd_in**2/count_in) + (sd_us**2/count_us))\n",
    "print(\"Value of z:\", z)\n",
    "# logic of finding finding or rejecting the hypothesis\n",
    "if abs(z) < abs(2.58):\n",
    "    print(\"The hypothesis is accepted at 1% level of significance\")\n",
    "elif abs(z) < abs(1.966):\n",
    "    print(\"The hypothesis is accepted at 5% level of significance\")\n",
    "elif abs(z) < abs(0.645):\n",
    "    print(\"The hypothesis is accepted at 10% level of significance\")\n",
    "else:\n",
    "    print(\"The hypothesis is rejected at all levels\")"
   ]
  },
  {
   "cell_type": "markdown",
   "metadata": {},
   "source": [
    "## Conclusion\n",
    "\n",
    "Since the test is rejected at all levels 1%, 5% and 10% we can conclude that the orignal hypothesis was rejected and the alternative hypothesis is accepted. We can infer that the two markets have completely different prices."
   ]
  }
 ],
 "metadata": {
  "kernelspec": {
   "display_name": "Python 3",
   "language": "python",
   "name": "python3"
  },
  "language_info": {
   "codemirror_mode": {
    "name": "ipython",
    "version": 3
   },
   "file_extension": ".py",
   "mimetype": "text/x-python",
   "name": "python",
   "nbconvert_exporter": "python",
   "pygments_lexer": "ipython3",
   "version": "3.11.3"
  },
  "orig_nbformat": 4
 },
 "nbformat": 4,
 "nbformat_minor": 2
}
